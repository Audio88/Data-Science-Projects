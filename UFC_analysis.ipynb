{
 "cells": [
  {
   "cell_type": "markdown",
   "metadata": {},
   "source": [
    "# Data Analysis : Ultimate Fighting Championship"
   ]
  },
  {
   "cell_type": "code",
   "execution_count": 1,
   "metadata": {
    "collapsed": true
   },
   "outputs": [],
   "source": [
    "import re\n",
    "import numpy as np\n",
    "import pandas as pd\n",
    "import matplotlib.pyplot as plt\n",
    "%matplotlib inline\n",
    "\n",
    "df = pd.read_csv('fight_data.csv')"
   ]
  },
  {
   "cell_type": "code",
   "execution_count": 2,
   "metadata": {
    "scrolled": true
   },
   "outputs": [
    {
     "data": {
      "text/plain": [
       "(1477, 895)"
      ]
     },
     "execution_count": 2,
     "metadata": {},
     "output_type": "execute_result"
    }
   ],
   "source": [
    "df.shape"
   ]
  },
  {
   "cell_type": "code",
   "execution_count": 3,
   "metadata": {},
   "outputs": [
    {
     "data": {
      "text/html": [
       "<div>\n",
       "<style>\n",
       "    .dataframe thead tr:only-child th {\n",
       "        text-align: right;\n",
       "    }\n",
       "\n",
       "    .dataframe thead th {\n",
       "        text-align: left;\n",
       "    }\n",
       "\n",
       "    .dataframe tbody tr th {\n",
       "        vertical-align: top;\n",
       "    }\n",
       "</style>\n",
       "<table border=\"1\" class=\"dataframe\">\n",
       "  <thead>\n",
       "    <tr style=\"text-align: right;\">\n",
       "      <th></th>\n",
       "      <th>B_Name</th>\n",
       "      <th>R_Name</th>\n",
       "      <th>winner</th>\n",
       "      <th>B_Age</th>\n",
       "      <th>R_Age</th>\n",
       "      <th>winby</th>\n",
       "      <th>B_Location</th>\n",
       "      <th>R_Location</th>\n",
       "      <th>Date</th>\n",
       "    </tr>\n",
       "  </thead>\n",
       "  <tbody>\n",
       "    <tr>\n",
       "      <th>0</th>\n",
       "      <td>Marvin Vettori</td>\n",
       "      <td>Antonio Carlos Junior</td>\n",
       "      <td>red</td>\n",
       "      <td>23.0</td>\n",
       "      <td>27.0</td>\n",
       "      <td>DEC</td>\n",
       "      <td>Mezzocorona Italy</td>\n",
       "      <td>Coconut Creek, Florida United States</td>\n",
       "      <td>01/02/2017</td>\n",
       "    </tr>\n",
       "    <tr>\n",
       "      <th>1</th>\n",
       "      <td>Carlos Diego Ferreira</td>\n",
       "      <td>Colton Smith</td>\n",
       "      <td>blue</td>\n",
       "      <td>32.0</td>\n",
       "      <td>29.0</td>\n",
       "      <td>SUB</td>\n",
       "      <td>Pharr, Texas USA</td>\n",
       "      <td>Fort Hood, TX USA</td>\n",
       "      <td>06/30/2014</td>\n",
       "    </tr>\n",
       "    <tr>\n",
       "      <th>2</th>\n",
       "      <td>Takanori Gomi</td>\n",
       "      <td>Joe Lauzon</td>\n",
       "      <td>red</td>\n",
       "      <td>38.0</td>\n",
       "      <td>32.0</td>\n",
       "      <td>KO/TKO</td>\n",
       "      <td>Tokyo Japan</td>\n",
       "      <td>Bridgewater, Massachusetts USA</td>\n",
       "      <td>07/27/2015</td>\n",
       "    </tr>\n",
       "    <tr>\n",
       "      <th>3</th>\n",
       "      <td>Brandon Moreno</td>\n",
       "      <td>Louis Smolka</td>\n",
       "      <td>blue</td>\n",
       "      <td>23.0</td>\n",
       "      <td>25.0</td>\n",
       "      <td>SUB</td>\n",
       "      <td>Tijuana Mexico</td>\n",
       "      <td>Kapolei, HI USA</td>\n",
       "      <td>10/03/2016</td>\n",
       "    </tr>\n",
       "    <tr>\n",
       "      <th>4</th>\n",
       "      <td>Elizabeth Phillips</td>\n",
       "      <td>Raquel Pennington</td>\n",
       "      <td>red</td>\n",
       "      <td>30.0</td>\n",
       "      <td>28.0</td>\n",
       "      <td>DEC</td>\n",
       "      <td>Spokane, WA USA</td>\n",
       "      <td>Colorado Spring, Colorado United States</td>\n",
       "      <td>08/22/2016</td>\n",
       "    </tr>\n",
       "    <tr>\n",
       "      <th>5</th>\n",
       "      <td>Reza Madadi</td>\n",
       "      <td>Norman Parke</td>\n",
       "      <td>red</td>\n",
       "      <td>38.0</td>\n",
       "      <td>30.0</td>\n",
       "      <td>DEC</td>\n",
       "      <td>Stockholm Sweden</td>\n",
       "      <td>Bushmills Northern Ireland</td>\n",
       "      <td>10/26/2015</td>\n",
       "    </tr>\n",
       "    <tr>\n",
       "      <th>6</th>\n",
       "      <td>Shane Campbell</td>\n",
       "      <td>James Krause</td>\n",
       "      <td>red</td>\n",
       "      <td>30.0</td>\n",
       "      <td>30.0</td>\n",
       "      <td>DEC</td>\n",
       "      <td>Kelowna, BC Canada</td>\n",
       "      <td>Lee's Summit, Missouri USA</td>\n",
       "      <td>02/22/2016</td>\n",
       "    </tr>\n",
       "    <tr>\n",
       "      <th>7</th>\n",
       "      <td>Johnny Case</td>\n",
       "      <td>Kazuki Tokudome</td>\n",
       "      <td>blue</td>\n",
       "      <td>27.0</td>\n",
       "      <td>30.0</td>\n",
       "      <td>SUB</td>\n",
       "      <td>Jefferson, Iowa USA</td>\n",
       "      <td>Tokyo Japan</td>\n",
       "      <td>09/22/2014</td>\n",
       "    </tr>\n",
       "    <tr>\n",
       "      <th>8</th>\n",
       "      <td>Justin Edwards</td>\n",
       "      <td>Joe Proctor</td>\n",
       "      <td>red</td>\n",
       "      <td>34.0</td>\n",
       "      <td>31.0</td>\n",
       "      <td>SUB</td>\n",
       "      <td>Bellefontaine, Ohio USA</td>\n",
       "      <td>Bridgewater, Massachusetts USA</td>\n",
       "      <td>06/08/2015</td>\n",
       "    </tr>\n",
       "    <tr>\n",
       "      <th>9</th>\n",
       "      <td>Viscardi Andrade</td>\n",
       "      <td>Richard Walsh</td>\n",
       "      <td>blue</td>\n",
       "      <td>33.0</td>\n",
       "      <td>28.0</td>\n",
       "      <td>DEC</td>\n",
       "      <td>São Paulo Brazil</td>\n",
       "      <td>North Shore , Sydney Australia</td>\n",
       "      <td>03/21/2016</td>\n",
       "    </tr>\n",
       "  </tbody>\n",
       "</table>\n",
       "</div>"
      ],
      "text/plain": [
       "                  B_Name                 R_Name winner  B_Age  R_Age   winby  \\\n",
       "0         Marvin Vettori  Antonio Carlos Junior    red   23.0   27.0     DEC   \n",
       "1  Carlos Diego Ferreira           Colton Smith   blue   32.0   29.0     SUB   \n",
       "2          Takanori Gomi             Joe Lauzon    red   38.0   32.0  KO/TKO   \n",
       "3         Brandon Moreno           Louis Smolka   blue   23.0   25.0     SUB   \n",
       "4     Elizabeth Phillips      Raquel Pennington    red   30.0   28.0     DEC   \n",
       "5            Reza Madadi           Norman Parke    red   38.0   30.0     DEC   \n",
       "6         Shane Campbell           James Krause    red   30.0   30.0     DEC   \n",
       "7            Johnny Case        Kazuki Tokudome   blue   27.0   30.0     SUB   \n",
       "8         Justin Edwards            Joe Proctor    red   34.0   31.0     SUB   \n",
       "9       Viscardi Andrade          Richard Walsh   blue   33.0   28.0     DEC   \n",
       "\n",
       "                B_Location                               R_Location  \\\n",
       "0        Mezzocorona Italy     Coconut Creek, Florida United States   \n",
       "1         Pharr, Texas USA                        Fort Hood, TX USA   \n",
       "2              Tokyo Japan           Bridgewater, Massachusetts USA   \n",
       "3           Tijuana Mexico                          Kapolei, HI USA   \n",
       "4          Spokane, WA USA  Colorado Spring, Colorado United States   \n",
       "5         Stockholm Sweden               Bushmills Northern Ireland   \n",
       "6       Kelowna, BC Canada               Lee's Summit, Missouri USA   \n",
       "7      Jefferson, Iowa USA                              Tokyo Japan   \n",
       "8  Bellefontaine, Ohio USA           Bridgewater, Massachusetts USA   \n",
       "9         São Paulo Brazil           North Shore , Sydney Australia   \n",
       "\n",
       "         Date  \n",
       "0  01/02/2017  \n",
       "1  06/30/2014  \n",
       "2  07/27/2015  \n",
       "3  10/03/2016  \n",
       "4  08/22/2016  \n",
       "5  10/26/2015  \n",
       "6  02/22/2016  \n",
       "7  09/22/2014  \n",
       "8  06/08/2015  \n",
       "9  03/21/2016  "
      ]
     },
     "execution_count": 3,
     "metadata": {},
     "output_type": "execute_result"
    }
   ],
   "source": [
    "df[['B_Name', 'R_Name', 'winner', 'B_Age', 'R_Age', 'winby', 'B_Location', 'R_Location','Date']].head(10)"
   ]
  },
  {
   "cell_type": "markdown",
   "metadata": {},
   "source": [
    "## Data Description\n",
    "\n",
    " This data set contains every UFC fight from 2013 up to the second quarter of 2017. Each row represents a single fight. \n",
    "Data is organized by Blue vs Red. There are 1,477 rows and 895 columns. \n",
    "    \n",
    "## Questions and Analysis\n",
    "    \n",
    " 1. Does age have an impact on performance?\n",
    " 2. What is the average height of each weight division? Do taller fighters win more?\n",
    " 3. Which states have the most winners by KO/TKO below age twenty seven located in the United States?"
   ]
  },
  {
   "cell_type": "code",
   "execution_count": 4,
   "metadata": {
    "collapsed": true
   },
   "outputs": [],
   "source": [
    "#this cell of code is creating new columns for the graphs used in the report.\n",
    "\n",
    "#creating new columns, winners age and losers age\n",
    "df['winners_age'] = np.where((df['winner'] == 'red'), df['R_Age'], df['B_Age'])\n",
    "df['losers_age'] = np.where((df['winner'] == 'red'), df['B_Age'], df['R_Age'])\n",
    "\n",
    "#fixing a few location formats, and creating new column, winners location\n",
    "df.set_value(216, 'B_Location', 'Kapolei, Hawaii USA')\n",
    "df.set_value(1336, 'R_Location', 'Kapolei, Hawaii USA')\n",
    "df.set_value(1129, 'B_Location', 'Albuquerque, New Mexico United States')\n",
    "df['winners_location'] = np.where((df['winner'] == 'red'), df['R_Location'], df['B_Location'])\n",
    "\n",
    "#creating new column, weight division\n",
    "conditions = [\n",
    "    df['B_Weight'] <= 57, \n",
    "    df['B_Weight'] <= 62,\n",
    "    df['B_Weight'] <= 66,\n",
    "    df['B_Weight'] <= 70,\n",
    "    df['B_Weight'] <= 77,\n",
    "    df['B_Weight'] <= 84,\n",
    "    df['B_Weight'] <= 93,\n",
    "    df['B_Weight'] <= 123\n",
    "]\n",
    "weight_divisions = ['Flyweight', 'Bantamweight', 'Featherweight', 'Lightweight', 'Welterweight'\n",
    "           , 'Middleweight', 'Light Heavyweight', 'Heavyweight']\n",
    "\n",
    "df['weight_division'] = np.select(conditions, weight_divisions)\n",
    "\n",
    "#creating new columns, Average_height, winnners height and losers height\n",
    "df['Average_Height'] =  (df['B_Height'] + df['R_Height']) / 2\n",
    "df['winners_height'] = np.where((df['winner'] == 'red'), df['R_Height'], df['B_Height'])\n",
    "df['losers_height'] = np.where((df['winner'] == 'red'), df['B_Height'], df['R_Height'])"
   ]
  },
  {
   "cell_type": "code",
   "execution_count": 5,
   "metadata": {},
   "outputs": [
    {
     "data": {
      "image/png": "[encoded data removed]",
      "text/plain": [
       "<matplotlib.figure.Figure at 0x2cd22cf9358>"
      ]
     },
     "metadata": {},
     "output_type": "display_data"
    }
   ],
   "source": [
    "plt.figure(figsize=(10,6))\n",
    "plt.hist(df['winners_age'].dropna(), alpha=.5, bins=26, color='g', label='Winners Age') \n",
    "plt.hist(df['losers_age'].dropna(), alpha=.5, bins=26, label='Loser Age') \n",
    "plt.title('Winners Age / Losers Age')\n",
    "plt.legend(loc='upper right')\n",
    "plt.ylabel('Counts')\n",
    "plt.xlabel('Age')\n",
    "plt.grid(alpha=.3)\n",
    "plt.show()"
   ]
  },
  {
   "cell_type": "markdown",
   "metadata": {
    "collapsed": true
   },
   "source": [
    "### 1. Does age have an impact on performance?\n",
    "    \n",
    "I was expecting a larger differnce here, between losers age and winners age. I assume that the difference is small because this is a premier league. No matter their age the fighters are evenly matched. However, there is a noticeable difference, suggesting that young fighters win more fights. There is also a notable drop in winners age around the age of 33, and a spike in losers age around age 32. Which tells us that fighters tend to fall off in their early 30s."
   ]
  },
  {
   "cell_type": "code",
   "execution_count": 6,
   "metadata": {
    "scrolled": false
   },
   "outputs": [
    {
     "data": {
      "image/png": "[encoded data removed]",
      "text/plain": [
       "<matplotlib.figure.Figure at 0x2cd237599e8>"
      ]
     },
     "metadata": {},
     "output_type": "display_data"
    }
   ],
   "source": [
    "#Getting average height of each weight division, winners and losers, converting dataframe to list.\n",
    "wddf = df.groupby(df['weight_division']).agg({np.mean})\n",
    "avg_list = wddf['Average_Height']['mean'].tolist()\n",
    "win_list = wddf['winners_height']['mean'].tolist()\n",
    "lose_list = wddf['losers_height']['mean'].tolist()\n",
    "lose_list.sort()\n",
    "avg_list.sort()\n",
    "win_list.sort()\n",
    "\n",
    "#creating dataframe of values we found\n",
    "raw_data = {'Division': weight_divisions,\n",
    "        'losers_height': lose_list,\n",
    "        'Average_Height': avg_list,\n",
    "        'winners_height': win_list}\n",
    "height_df = pd.DataFrame(raw_data, columns = ['Division', 'losers_height', 'Average_Height', 'winners_height'])\n",
    "\n",
    "# Setting the positions and width for the bars\n",
    "pos = list(range(len(height_df['losers_height']))) \n",
    "width = 0.25 \n",
    "\n",
    "fig, ax = plt.subplots(figsize=(15,8))\n",
    "plt.bar(pos, height_df['losers_height'], width, alpha=0.5, color='b') \n",
    "plt.bar([p + width for p in pos], height_df['Average_Height'], width, alpha=0.5, color='g') \n",
    "plt.bar([p + width*2 for p in pos], height_df['winners_height'], width, alpha=0.5, color='#FFC222') \n",
    "\n",
    "ax.set_title('average height ploted against winner and losers height by division')\n",
    "ax.set_ylabel('Height in Centimeters')\n",
    "ax.set_xticks([p + width for p in pos])\n",
    "ax.set_xticklabels(height_df['Division'])\n",
    "plt.xlim(min(pos)-width, max(pos)+width*4)\n",
    "ax.set_ylim([155,195])\n",
    "plt.xticks(rotation=45)\n",
    "plt.legend(['Avg. Losers Height', 'Average Height', 'Avg. Winners Height'], loc='upper left')\n",
    "plt.grid(alpha=.3)\n",
    "plt.show()"
   ]
  },
  {
   "cell_type": "markdown",
   "metadata": {},
   "source": [
    "### 2. What is the average height of each weight division? Do taller fighters win more?\n",
    "    \n",
    "The difference between the three plotted averages is less than a centimeter in every division. So taller fighters don't \n",
    "win more. This is another instance of the league being a premeir league. Fighters are fighting in weight divisions they \n",
    "belong in."
   ]
  },
  {
   "cell_type": "code",
   "execution_count": 7,
   "metadata": {},
   "outputs": [
    {
     "data": {
      "image/png": "[encoded data removed]",
      "text/plain": [
       "<matplotlib.figure.Figure at 0x2cd23318a20>"
      ]
     },
     "metadata": {},
     "output_type": "display_data"
    }
   ],
   "source": [
    "#Finding fighters whos' age is less than 27, live in the USA, and won a fight by TKO/KO\n",
    "statesdf = df[(df['winners_age'] <= 26)\n",
    "            & (df['winby'] == 'KO/TKO')\n",
    "            & (df['winners_location'].str.contains(\"USA\")==True)\n",
    "            | (df['winners_location'].str.contains(\"United States\")==True)\n",
    "            & (df['winby'] == 'KO/TKO')\n",
    "            & (df['winners_age'] <= 26)]\n",
    "\n",
    "#turning off warning, false positive\n",
    "pd.options.mode.chained_assignment = None  # default='warn'\n",
    "\n",
    "#new column in our sliced dataframe, winners state\n",
    "statesdf['winners_state'] = statesdf['winners_location'].apply(lambda x: re.search(\",\\s(New\\s\\w+|\\w+)\", x).group(0)[2:])\n",
    "\n",
    "#Grouping by state and creating a count column.\n",
    "newdf = statesdf['winners_state'].groupby(statesdf['winners_state']).agg({'count'})\n",
    "\n",
    "x_pos = np.arange(len(newdf.index))\n",
    "count = newdf['count'].tolist()\n",
    "\n",
    "plt.figure(figsize=(12,6))\n",
    "plt.bar(x_pos, count, align='center', alpha=0.5)\n",
    "plt.xticks(x_pos, newdf.index)\n",
    "plt.xticks(rotation=45)\n",
    "plt.title('Young Fighters Who Won By KO By State')\n",
    "plt.ylabel('Number of Knock Outs')\n",
    "plt.xlabel('State')\n",
    "plt.grid(alpha=.3)\n",
    "plt.show()"
   ]
  },
  {
   "cell_type": "markdown",
   "metadata": {
    "collapsed": true
   },
   "source": [
    "### 3. Which states have the most winners by KO/TKO younger than twenty seven located in the United States?\n",
    "    \n",
    "California has the most fighters with knock out vicotries under the age of twenty seven with a result of eight victories. Followed closely by Hawaii and Florida with seven and six. I'm surprised a state like texas doesn't have more knock out wins."
   ]
  }
 ],
 "metadata": {
  "kernelspec": {
   "display_name": "Python 3",
   "language": "python",
   "name": "python3"
  },
  "language_info": {
   "codemirror_mode": {
    "name": "ipython",
    "version": 3
   },
   "file_extension": ".py",
   "mimetype": "text/x-python",
   "name": "python",
   "nbconvert_exporter": "python",
   "pygments_lexer": "ipython3",
   "version": "3.6.3"
  }
 },
 "nbformat": 4,
 "nbformat_minor": 2
}
